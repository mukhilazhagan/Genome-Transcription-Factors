{
  "nbformat": 4,
  "nbformat_minor": 0,
  "metadata": {
    "colab": {
      "name": "Prog_Assgn3.ipynb",
      "version": "0.3.2",
      "views": {},
      "default_view": {},
      "provenance": [],
      "collapsed_sections": []
    },
    "kernelspec": {
      "name": "python3",
      "display_name": "Python 3"
    }
  },
  "cells": [
    {
      "metadata": {
        "id": "6l_uT3McLm-H",
        "colab_type": "code",
        "colab": {
          "autoexec": {
            "startup": false,
            "wait_interval": 0
          }
        }
      },
      "cell_type": "code",
      "source": [
        "import numpy as np\n",
        "import pandas as pd\n",
        "import sklearn\n",
        "from sklearn.model_selection import train_test_split\n",
        "from google.colab import files\n",
        "from keras.models import Sequential\n",
        "from keras.layers import Dense, Dropout, Activation, Flatten\n",
        "from keras.layers import Convolution2D \n",
        "from keras.utils import to_categorical\n",
        "from keras.utils import np_utils\n",
        "import io \n",
        "import csv"
      ],
      "execution_count": 0,
      "outputs": []
    },
    {
      "metadata": {
        "id": "Ycu5ZDYaNHPf",
        "colab_type": "code",
        "colab": {
          "autoexec": {
            "startup": false,
            "wait_interval": 0
          },
          "resources": {
            "http://localhost:8080/nbextensions/google.colab/files.js": {
              "data": "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",
              "ok": true,
              "headers": [
                [
                  "content-type",
                  "application/javascript"
                ]
              ],
              "status": 200,
              "status_text": ""
            }
          },
          "base_uri": "https://localhost:8080/",
          "height": 72
        },
        "outputId": "2c69eb68-7ed8-4398-c1aa-57d8c2649e9a",
        "executionInfo": {
          "status": "ok",
          "timestamp": 1523056929318,
          "user_tz": 240,
          "elapsed": 4828,
          "user": {
            "displayName": "Mukhil Azhagan",
            "photoUrl": "//lh4.googleusercontent.com/-sxMVMyXFphk/AAAAAAAAAAI/AAAAAAAAAi8/wIkNL082UHw/s50-c-k-no/photo.jpg",
            "userId": "108469058556399133371"
          }
        }
      },
      "cell_type": "code",
      "source": [
        "file_train=files.upload()"
      ],
      "execution_count": 26,
      "outputs": [
        {
          "output_type": "display_data",
          "data": {
            "text/html": [
              "\n",
              "     <input type=\"file\" id=\"files-afbe6660-ff74-49d6-8cf0-70af9ceb12d8\" name=\"files[]\" multiple disabled />\n",
              "     <output id=\"result-afbe6660-ff74-49d6-8cf0-70af9ceb12d8\">\n",
              "      Upload widget is only available when the cell has been executed in the\n",
              "      current browser session. Please rerun this cell to enable.\n",
              "      </output>\n",
              "      <script src=\"/nbextensions/google.colab/files.js\"></script> "
            ],
            "text/plain": [
              "<IPython.core.display.HTML object>"
            ]
          },
          "metadata": {
            "tags": []
          }
        },
        {
          "output_type": "stream",
          "text": [
            "Saving train.csv to train (2).csv\n"
          ],
          "name": "stdout"
        }
      ]
    },
    {
      "metadata": {
        "id": "ugAN-s1vLsML",
        "colab_type": "code",
        "colab": {
          "autoexec": {
            "startup": false,
            "wait_interval": 0
          }
        }
      },
      "cell_type": "code",
      "source": [
        "# CSV read and 1 hot , using pandas to read\n",
        "\n",
        "# read as dataframe df_train\n",
        "df_train= pd.read_csv(io.StringIO(file_train['train.csv'].decode('utf-8')))\n",
        "\n",
        "# if none fill with NAN\n",
        "df_train.fillna(0,inplace=True)\n"
      ],
      "execution_count": 0,
      "outputs": []
    },
    {
      "metadata": {
        "id": "ufmoxXGqM2Os",
        "colab_type": "code",
        "colab": {
          "autoexec": {
            "startup": false,
            "wait_interval": 0
          },
          "base_uri": "https://localhost:8080/",
          "height": 1105
        },
        "outputId": "2fa855d5-2cb4-449b-da12-3de486c8e0cf",
        "executionInfo": {
          "status": "ok",
          "timestamp": 1523057102139,
          "user_tz": 240,
          "elapsed": 266,
          "user": {
            "displayName": "Mukhil Azhagan",
            "photoUrl": "//lh4.googleusercontent.com/-sxMVMyXFphk/AAAAAAAAAAI/AAAAAAAAAi8/wIkNL082UHw/s50-c-k-no/photo.jpg",
            "userId": "108469058556399133371"
          }
        }
      },
      "cell_type": "code",
      "source": [
        "# debug statement to check if it works\n",
        "print(df_train)"
      ],
      "execution_count": 34,
      "outputs": [
        {
          "output_type": "stream",
          "text": [
            "        id        sequence  label\n",
            "0        0  GTAGCGGCGCATGC      1\n",
            "1        1  GCCTGCCACTTCCT      1\n",
            "2        2  GAGAGGAGGGGTGT      1\n",
            "3        3  GGGCAGGGCCGAGG      1\n",
            "4        4  AGACGGGCCGCGCC      1\n",
            "5        5  CTAGGCCGGAGCGT      1\n",
            "6        6  AGGAGGCGGAGGGA      1\n",
            "7        7  GCGTAGGGAGGCGG      1\n",
            "8        8  ACCTCTGATCATTC      1\n",
            "9        9  AGCAAGAACAGCAC      1\n",
            "10      10  AGCCCCCGGAGGGA      1\n",
            "11      11  GCCATCGCCAACTT      1\n",
            "12      12  CGAAAGATTCGAAA      1\n",
            "13      13  AGGAGGGCGGGAGA      1\n",
            "14      14  TGGGGCGGAGCCAT      1\n",
            "15      15  CCGCTCGTCGGCTG      1\n",
            "16      16  GGCCGCGCCCACCA      1\n",
            "17      17  GGTGCGGCGAGCGG      1\n",
            "18      18  GCGCAGCCTTATCC      1\n",
            "19      19  GCGGCCAGATGGGG      1\n",
            "20      20  TGGGGGCGTAGCGC      1\n",
            "21      21  GCGCGGCGAGGAGA      1\n",
            "22      22  GGGAGGCGTGGCGC      1\n",
            "23      23  GTCGTGGGCCGTGG      1\n",
            "24      24  TTTGCCCTCCCCCT      1\n",
            "25      25  GCGGCGGGCCCGGG      1\n",
            "26      26  CGAGGGCTGGGCCG      1\n",
            "27      27  GTTGGGCCGAAACA      1\n",
            "28      28  GCCAGTGGGCACGG      1\n",
            "29      29  GATGAAGACGAGGA      1\n",
            "...    ...             ...    ...\n",
            "1970  1970  CAGCATCCAGTGAA      0\n",
            "1971  1971  TGTGCCAACGTGCC      0\n",
            "1972  1972  AGGCTGGGTGCGGT      0\n",
            "1973  1973  GAGGGGCCTCGCCG      0\n",
            "1974  1974  TGATGGAGTGAGAT      0\n",
            "1975  1975  TGATTTGTCAGTTG      0\n",
            "1976  1976  AACACATACTAGCC      0\n",
            "1977  1977  CACCATGTTGGCCA      0\n",
            "1978  1978  GGATTACAGGCGTG      0\n",
            "1979  1979  TTAACCTTGACCAC      0\n",
            "1980  1980  AACACTTAAAATAT      0\n",
            "1981  1981  TTTATAATCATTTA      0\n",
            "1982  1982  CATGATTGGGTTCA      0\n",
            "1983  1983  ATGGACACAGGAAG      0\n",
            "1984  1984  TTCTTCTTTGCAGT      0\n",
            "1985  1985  TTAACTATGTGACC      0\n",
            "1986  1986  TAAGCTTTTTGGAG      0\n",
            "1987  1987  CTGTAGCATCAACC      0\n",
            "1988  1988  TCCAGGCGAGAGTC      0\n",
            "1989  1989  TTCTCTCTCCTCAG      0\n",
            "1990  1990  GAACAGATGTTGCA      0\n",
            "1991  1991  CGTGGATGCAGCTG      0\n",
            "1992  1992  TTTTAATTTGCACT      0\n",
            "1993  1993  AATTGCAAGATGGT      0\n",
            "1994  1994  TCCATTATATGTAT      0\n",
            "1995  1995  TTAGCCGGGCGTGG      0\n",
            "1996  1996  CTACCACCATGAAT      0\n",
            "1997  1997  CCATTGCAAGATTT      0\n",
            "1998  1998  TAGTAAACTTTTGT      0\n",
            "1999  1999  AAGCTAAAATTTTC      0\n",
            "\n",
            "[2000 rows x 3 columns]\n"
          ],
          "name": "stdout"
        }
      ]
    },
    {
      "metadata": {
        "id": "qRMaDfpINV1c",
        "colab_type": "code",
        "colab": {
          "autoexec": {
            "startup": false,
            "wait_interval": 0
          }
        }
      },
      "cell_type": "code",
      "source": [
        "seq=df_train['sequence']\n",
        "label=df_train['label']\n",
        "\n",
        "base={\n",
        "    'A':0,\n",
        "    'G':1,\n",
        "    'C':2,\n",
        "    'T':3\n",
        "     }\n",
        "enc=np.zeros( (2000,14) )\n",
        "\n",
        "for i in range(2000):\n",
        "  enc[i]= [ base[ch] for ch in seq[i]]\n",
        "  enc[i]=np.transpose(enc[i])\n",
        " \n",
        "encode=to_categorical(enc)\n",
        "\n"
      ],
      "execution_count": 0,
      "outputs": []
    },
    {
      "metadata": {
        "id": "cPrKkKL6P0k-",
        "colab_type": "code",
        "colab": {
          "autoexec": {
            "startup": false,
            "wait_interval": 0
          }
        }
      },
      "cell_type": "code",
      "source": [
        "train_test_split?"
      ],
      "execution_count": 0,
      "outputs": []
    },
    {
      "metadata": {
        "id": "ovjk9Ae3PUwo",
        "colab_type": "code",
        "colab": {
          "autoexec": {
            "startup": false,
            "wait_interval": 0
          }
        }
      },
      "cell_type": "code",
      "source": [
        "# using sk's train_test_split\n",
        "\n",
        "train_x , test_x , train_y ,test_y = train_test_split(enc , label ,test_size =0.33 )"
      ],
      "execution_count": 0,
      "outputs": []
    },
    {
      "metadata": {
        "id": "lqYbGzB9N1q8",
        "colab_type": "code",
        "colab": {
          "autoexec": {
            "startup": false,
            "wait_interval": 0
          },
          "base_uri": "https://localhost:8080/",
          "height": 272
        },
        "outputId": "34310cc0-b5ba-442d-b82b-d0db1901b0be",
        "executionInfo": {
          "status": "ok",
          "timestamp": 1523057115956,
          "user_tz": 240,
          "elapsed": 269,
          "user": {
            "displayName": "Mukhil Azhagan",
            "photoUrl": "//lh4.googleusercontent.com/-sxMVMyXFphk/AAAAAAAAAAI/AAAAAAAAAi8/wIkNL082UHw/s50-c-k-no/photo.jpg",
            "userId": "108469058556399133371"
          }
        }
      },
      "cell_type": "code",
      "source": [
        "# Debug check for 1hot enc\n",
        "print(encode[0][:][:])\n",
        "print(seq[0])"
      ],
      "execution_count": 38,
      "outputs": [
        {
          "output_type": "stream",
          "text": [
            "[[0. 1. 0. 0.]\n",
            " [0. 0. 0. 1.]\n",
            " [1. 0. 0. 0.]\n",
            " [0. 1. 0. 0.]\n",
            " [0. 0. 1. 0.]\n",
            " [0. 1. 0. 0.]\n",
            " [0. 1. 0. 0.]\n",
            " [0. 0. 1. 0.]\n",
            " [0. 1. 0. 0.]\n",
            " [0. 0. 1. 0.]\n",
            " [1. 0. 0. 0.]\n",
            " [0. 0. 0. 1.]\n",
            " [0. 1. 0. 0.]\n",
            " [0. 0. 1. 0.]]\n",
            "GTAGCGGCGCATGC\n"
          ],
          "name": "stdout"
        }
      ]
    },
    {
      "metadata": {
        "id": "kxJ5Ke27RR0i",
        "colab_type": "code",
        "colab": {
          "autoexec": {
            "startup": false,
            "wait_interval": 0
          },
          "resources": {
            "http://localhost:8080/nbextensions/google.colab/files.js": {
              "data": "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",
              "ok": true,
              "headers": [
                [
                  "content-type",
                  "application/javascript"
                ]
              ],
              "status": 200,
              "status_text": ""
            }
          },
          "base_uri": "https://localhost:8080/",
          "height": 72
        },
        "outputId": "44bf270c-082f-4291-fe82-fb0e9e9759af",
        "executionInfo": {
          "status": "ok",
          "timestamp": 1523056995602,
          "user_tz": 240,
          "elapsed": 5696,
          "user": {
            "displayName": "Mukhil Azhagan",
            "photoUrl": "//lh4.googleusercontent.com/-sxMVMyXFphk/AAAAAAAAAAI/AAAAAAAAAi8/wIkNL082UHw/s50-c-k-no/photo.jpg",
            "userId": "108469058556399133371"
          }
        }
      },
      "cell_type": "code",
      "source": [
        "file_test=files.upload()"
      ],
      "execution_count": 32,
      "outputs": [
        {
          "output_type": "display_data",
          "data": {
            "text/html": [
              "\n",
              "     <input type=\"file\" id=\"files-304ce367-8a74-4ada-929e-26d0b8d30d62\" name=\"files[]\" multiple disabled />\n",
              "     <output id=\"result-304ce367-8a74-4ada-929e-26d0b8d30d62\">\n",
              "      Upload widget is only available when the cell has been executed in the\n",
              "      current browser session. Please rerun this cell to enable.\n",
              "      </output>\n",
              "      <script src=\"/nbextensions/google.colab/files.js\"></script> "
            ],
            "text/plain": [
              "<IPython.core.display.HTML object>"
            ]
          },
          "metadata": {
            "tags": []
          }
        },
        {
          "output_type": "stream",
          "text": [
            "Saving test.csv to test.csv\n"
          ],
          "name": "stdout"
        }
      ]
    },
    {
      "metadata": {
        "id": "GxxpxmFUPs16",
        "colab_type": "code",
        "colab": {
          "autoexec": {
            "startup": false,
            "wait_interval": 0
          }
        }
      },
      "cell_type": "code",
      "source": [
        "## Doing the same for test data\n",
        "\n",
        "\n",
        "# read as dataframe df_test\n",
        "df_test= pd.read_csv(io.StringIO(file_test['test.csv'].decode('utf-8')))\n",
        "\n",
        "# if none fill with NAN\n",
        "df_test.fillna(0,inplace=True)\n",
        "\n",
        "seq_test = df_test['sequence']\n",
        "\n",
        "enc_test=np.zeros( (400,14) )\n",
        "\n",
        "for i in range(400):\n",
        "  enc_test[i]= [base[k] for k in seq_test[i] ]\n"
      ],
      "execution_count": 0,
      "outputs": []
    },
    {
      "metadata": {
        "id": "DteP8zGNR2h3",
        "colab_type": "code",
        "colab": {
          "autoexec": {
            "startup": false,
            "wait_interval": 0
          }
        }
      },
      "cell_type": "code",
      "source": [
        "model = Sequential()\n",
        "model.add(Dense(20, input_dim =14, activation ='relu'))\n",
        "model.add(Dense(10, activation='relu'))\n",
        "model.add(Dense(1, activation = 'sigmoid'))\n",
        "          "
      ],
      "execution_count": 0,
      "outputs": []
    },
    {
      "metadata": {
        "id": "5PQwLHl3Se_e",
        "colab_type": "code",
        "colab": {
          "autoexec": {
            "startup": false,
            "wait_interval": 0
          },
          "base_uri": "https://localhost:8080/",
          "height": 6834
        },
        "outputId": "cea2a888-7a9f-4d42-f4c5-d4ea9518d92b",
        "executionInfo": {
          "status": "ok",
          "timestamp": 1523058153240,
          "user_tz": 240,
          "elapsed": 28063,
          "user": {
            "displayName": "Mukhil Azhagan",
            "photoUrl": "//lh4.googleusercontent.com/-sxMVMyXFphk/AAAAAAAAAAI/AAAAAAAAAi8/wIkNL082UHw/s50-c-k-no/photo.jpg",
            "userId": "108469058556399133371"
          }
        }
      },
      "cell_type": "code",
      "source": [
        "model.compile (  optimizer = 'sgd'  ,loss ='binary_crossentropy' , metrics=['accuracy'])\n",
        "model.fit(train_x , train_y , epochs = 200, batch_size = 15)"
      ],
      "execution_count": 59,
      "outputs": [
        {
          "output_type": "stream",
          "text": [
            "Epoch 1/200\n",
            "1340/1340 [==============================] - 0s 180us/step - loss: 0.3246 - acc: 0.8649\n",
            "Epoch 2/200\n",
            "1340/1340 [==============================] - 0s 85us/step - loss: 0.3254 - acc: 0.8709\n",
            "Epoch 3/200\n",
            "1340/1340 [==============================] - 0s 87us/step - loss: 0.3302 - acc: 0.8612\n",
            "Epoch 4/200\n",
            "1340/1340 [==============================] - 0s 85us/step - loss: 0.3246 - acc: 0.8604\n",
            "Epoch 5/200\n",
            "1340/1340 [==============================] - 0s 83us/step - loss: 0.3178 - acc: 0.8731\n",
            "Epoch 6/200\n",
            "1340/1340 [==============================] - 0s 86us/step - loss: 0.3263 - acc: 0.8604\n",
            "Epoch 7/200\n",
            "1340/1340 [==============================] - 0s 87us/step - loss: 0.3274 - acc: 0.8642\n",
            "Epoch 8/200\n",
            "1340/1340 [==============================] - 0s 86us/step - loss: 0.3183 - acc: 0.8716\n",
            "Epoch 9/200\n",
            "1340/1340 [==============================] - 0s 90us/step - loss: 0.3178 - acc: 0.8619\n",
            "Epoch 10/200\n",
            "1340/1340 [==============================] - 0s 77us/step - loss: 0.3115 - acc: 0.8716\n",
            "Epoch 11/200\n",
            "1340/1340 [==============================] - 0s 83us/step - loss: 0.3155 - acc: 0.8679\n",
            "Epoch 12/200\n",
            "1340/1340 [==============================] - 0s 83us/step - loss: 0.3135 - acc: 0.8664\n",
            "Epoch 13/200\n",
            "1340/1340 [==============================] - 0s 84us/step - loss: 0.3214 - acc: 0.8657\n",
            "Epoch 14/200\n",
            "1340/1340 [==============================] - 0s 81us/step - loss: 0.3114 - acc: 0.8716\n",
            "Epoch 15/200\n",
            "1340/1340 [==============================] - 0s 98us/step - loss: 0.3083 - acc: 0.8731\n",
            "Epoch 16/200\n",
            "1340/1340 [==============================] - 0s 103us/step - loss: 0.3035 - acc: 0.8761\n",
            "Epoch 17/200\n",
            "1340/1340 [==============================] - 0s 102us/step - loss: 0.3133 - acc: 0.8694\n",
            "Epoch 18/200\n",
            "1340/1340 [==============================] - 0s 103us/step - loss: 0.3158 - acc: 0.8687\n",
            "Epoch 19/200\n",
            "1340/1340 [==============================] - 0s 100us/step - loss: 0.3025 - acc: 0.8716\n",
            "Epoch 20/200\n",
            "1340/1340 [==============================] - 0s 102us/step - loss: 0.3030 - acc: 0.8687\n",
            "Epoch 21/200\n",
            "1340/1340 [==============================] - 0s 103us/step - loss: 0.3073 - acc: 0.8724\n",
            "Epoch 22/200\n",
            "1340/1340 [==============================] - 0s 104us/step - loss: 0.3093 - acc: 0.8731\n"
          ],
          "name": "stdout"
        },
        {
          "output_type": "stream",
          "text": [
            "Epoch 23/200\n",
            "1340/1340 [==============================] - 0s 103us/step - loss: 0.3053 - acc: 0.8657\n",
            "Epoch 24/200\n",
            "1340/1340 [==============================] - 0s 102us/step - loss: 0.2966 - acc: 0.8731\n",
            "Epoch 25/200\n",
            "1340/1340 [==============================] - 0s 102us/step - loss: 0.2995 - acc: 0.8761\n",
            "Epoch 26/200\n",
            "1340/1340 [==============================] - 0s 101us/step - loss: 0.3008 - acc: 0.8739\n",
            "Epoch 27/200\n",
            "1340/1340 [==============================] - 0s 98us/step - loss: 0.2948 - acc: 0.8724\n",
            "Epoch 28/200\n",
            "1340/1340 [==============================] - 0s 104us/step - loss: 0.3013 - acc: 0.8634\n",
            "Epoch 29/200\n",
            "1340/1340 [==============================] - 0s 106us/step - loss: 0.3022 - acc: 0.8754\n",
            "Epoch 30/200\n",
            "1340/1340 [==============================] - 0s 98us/step - loss: 0.2904 - acc: 0.8851\n",
            "Epoch 31/200\n",
            "1340/1340 [==============================] - 0s 103us/step - loss: 0.2958 - acc: 0.8784\n",
            "Epoch 32/200\n",
            "1340/1340 [==============================] - 0s 106us/step - loss: 0.2966 - acc: 0.8761\n",
            "Epoch 33/200\n",
            "1340/1340 [==============================] - 0s 101us/step - loss: 0.2954 - acc: 0.8761\n",
            "Epoch 34/200\n",
            "1340/1340 [==============================] - 0s 104us/step - loss: 0.2895 - acc: 0.8739\n",
            "Epoch 35/200\n",
            "1340/1340 [==============================] - 0s 106us/step - loss: 0.2909 - acc: 0.8806\n",
            "Epoch 36/200\n",
            "1340/1340 [==============================] - 0s 100us/step - loss: 0.2925 - acc: 0.8724\n",
            "Epoch 37/200\n",
            "1340/1340 [==============================] - 0s 104us/step - loss: 0.2921 - acc: 0.8791\n",
            "Epoch 38/200\n",
            "1340/1340 [==============================] - 0s 109us/step - loss: 0.2884 - acc: 0.8761\n",
            "Epoch 39/200\n",
            "1340/1340 [==============================] - 0s 98us/step - loss: 0.2836 - acc: 0.8806\n",
            "Epoch 40/200\n",
            "1340/1340 [==============================] - 0s 100us/step - loss: 0.2895 - acc: 0.8806\n",
            "Epoch 41/200\n",
            "1340/1340 [==============================] - 0s 104us/step - loss: 0.2822 - acc: 0.8858\n",
            "Epoch 42/200\n",
            "1340/1340 [==============================] - 0s 102us/step - loss: 0.2791 - acc: 0.8836\n",
            "Epoch 43/200\n",
            "1340/1340 [==============================] - 0s 100us/step - loss: 0.2841 - acc: 0.8821\n",
            "Epoch 44/200\n",
            "  15/1340 [..............................] - ETA: 0s - loss: 0.1156 - acc: 1.0000"
          ],
          "name": "stdout"
        },
        {
          "output_type": "stream",
          "text": [
            "1340/1340 [==============================] - 0s 102us/step - loss: 0.2837 - acc: 0.8821\n",
            "Epoch 45/200\n",
            "1340/1340 [==============================] - 0s 101us/step - loss: 0.2817 - acc: 0.8851\n",
            "Epoch 46/200\n",
            "1340/1340 [==============================] - 0s 100us/step - loss: 0.2747 - acc: 0.8910\n",
            "Epoch 47/200\n",
            "1340/1340 [==============================] - 0s 103us/step - loss: 0.2800 - acc: 0.8799\n",
            "Epoch 48/200\n",
            "1340/1340 [==============================] - 0s 112us/step - loss: 0.2806 - acc: 0.8896\n",
            "Epoch 49/200\n",
            "1340/1340 [==============================] - 0s 106us/step - loss: 0.2749 - acc: 0.8955\n",
            "Epoch 50/200\n",
            "1340/1340 [==============================] - 0s 101us/step - loss: 0.2795 - acc: 0.8910\n",
            "Epoch 51/200\n",
            "1340/1340 [==============================] - 0s 102us/step - loss: 0.2833 - acc: 0.8843\n",
            "Epoch 52/200\n",
            "1340/1340 [==============================] - 0s 105us/step - loss: 0.2728 - acc: 0.8903\n",
            "Epoch 53/200\n",
            "1340/1340 [==============================] - 0s 100us/step - loss: 0.2747 - acc: 0.8933\n",
            "Epoch 54/200\n",
            "1340/1340 [==============================] - 0s 101us/step - loss: 0.2869 - acc: 0.8806\n",
            "Epoch 55/200\n",
            "1340/1340 [==============================] - 0s 99us/step - loss: 0.2772 - acc: 0.8836\n",
            "Epoch 56/200\n",
            "1340/1340 [==============================] - 0s 116us/step - loss: 0.2744 - acc: 0.8866\n",
            "Epoch 57/200\n",
            "1340/1340 [==============================] - 0s 104us/step - loss: 0.2765 - acc: 0.8903\n",
            "Epoch 58/200\n",
            "1340/1340 [==============================] - 0s 100us/step - loss: 0.2737 - acc: 0.8881\n",
            "Epoch 59/200\n",
            "1340/1340 [==============================] - 0s 102us/step - loss: 0.2737 - acc: 0.8881\n",
            "Epoch 60/200\n",
            "1340/1340 [==============================] - 0s 103us/step - loss: 0.2713 - acc: 0.8851\n",
            "Epoch 61/200\n",
            "1340/1340 [==============================] - 0s 101us/step - loss: 0.2850 - acc: 0.8769\n",
            "Epoch 62/200\n",
            "1340/1340 [==============================] - 0s 102us/step - loss: 0.2706 - acc: 0.8851\n",
            "Epoch 63/200\n",
            "1340/1340 [==============================] - 0s 94us/step - loss: 0.2713 - acc: 0.8940\n",
            "Epoch 64/200\n",
            "1340/1340 [==============================] - 0s 100us/step - loss: 0.2769 - acc: 0.8925\n",
            "Epoch 65/200\n",
            "1095/1340 [=======================>......] - ETA: 0s - loss: 0.2789 - acc: 0.8849"
          ],
          "name": "stdout"
        },
        {
          "output_type": "stream",
          "text": [
            "1340/1340 [==============================] - 0s 96us/step - loss: 0.2775 - acc: 0.8828\n",
            "Epoch 66/200\n",
            "1340/1340 [==============================] - 0s 105us/step - loss: 0.2720 - acc: 0.8858\n",
            "Epoch 67/200\n",
            "1340/1340 [==============================] - 0s 103us/step - loss: 0.2675 - acc: 0.8866\n",
            "Epoch 68/200\n",
            "1340/1340 [==============================] - 0s 96us/step - loss: 0.2649 - acc: 0.8918\n",
            "Epoch 69/200\n",
            "1340/1340 [==============================] - 0s 97us/step - loss: 0.2634 - acc: 0.8948\n",
            "Epoch 70/200\n",
            "1340/1340 [==============================] - 0s 99us/step - loss: 0.2728 - acc: 0.8858\n",
            "Epoch 71/200\n",
            "1340/1340 [==============================] - 0s 109us/step - loss: 0.2682 - acc: 0.8903\n",
            "Epoch 72/200\n",
            "1340/1340 [==============================] - 0s 101us/step - loss: 0.2668 - acc: 0.8903\n",
            "Epoch 73/200\n",
            "1340/1340 [==============================] - 0s 101us/step - loss: 0.2632 - acc: 0.8970\n",
            "Epoch 74/200\n",
            "1340/1340 [==============================] - 0s 101us/step - loss: 0.2594 - acc: 0.8925\n",
            "Epoch 75/200\n",
            "1340/1340 [==============================] - 0s 101us/step - loss: 0.2673 - acc: 0.8963\n",
            "Epoch 76/200\n",
            "1340/1340 [==============================] - 0s 99us/step - loss: 0.2590 - acc: 0.8881\n",
            "Epoch 77/200\n",
            "1340/1340 [==============================] - 0s 104us/step - loss: 0.2619 - acc: 0.8955\n",
            "Epoch 78/200\n",
            "1340/1340 [==============================] - 0s 113us/step - loss: 0.2588 - acc: 0.8940\n",
            "Epoch 79/200\n",
            "1340/1340 [==============================] - 0s 105us/step - loss: 0.2591 - acc: 0.8918\n",
            "Epoch 80/200\n",
            "1340/1340 [==============================] - 0s 103us/step - loss: 0.2668 - acc: 0.8940\n",
            "Epoch 81/200\n",
            "1340/1340 [==============================] - 0s 103us/step - loss: 0.2631 - acc: 0.8881\n",
            "Epoch 82/200\n",
            "1340/1340 [==============================] - 0s 103us/step - loss: 0.2641 - acc: 0.8896\n",
            "Epoch 83/200\n",
            "1340/1340 [==============================] - 0s 102us/step - loss: 0.2643 - acc: 0.8828\n",
            "Epoch 84/200\n",
            "1340/1340 [==============================] - 0s 101us/step - loss: 0.2607 - acc: 0.8963\n",
            "Epoch 85/200\n",
            "1340/1340 [==============================] - 0s 105us/step - loss: 0.2541 - acc: 0.8940\n",
            "Epoch 86/200\n",
            "1035/1340 [======================>.......] - ETA: 0s - loss: 0.2550 - acc: 0.8966"
          ],
          "name": "stdout"
        },
        {
          "output_type": "stream",
          "text": [
            "1340/1340 [==============================] - 0s 104us/step - loss: 0.2543 - acc: 0.8940\n",
            "Epoch 87/200\n",
            "1340/1340 [==============================] - 0s 102us/step - loss: 0.2635 - acc: 0.8873\n",
            "Epoch 88/200\n",
            "1340/1340 [==============================] - 0s 101us/step - loss: 0.2587 - acc: 0.8978\n",
            "Epoch 89/200\n",
            "1340/1340 [==============================] - 0s 100us/step - loss: 0.2464 - acc: 0.8948\n",
            "Epoch 90/200\n",
            "1340/1340 [==============================] - 0s 104us/step - loss: 0.2594 - acc: 0.8910\n",
            "Epoch 91/200\n",
            "1340/1340 [==============================] - 0s 102us/step - loss: 0.2594 - acc: 0.8955\n",
            "Epoch 92/200\n",
            "1340/1340 [==============================] - 0s 102us/step - loss: 0.2527 - acc: 0.8970\n",
            "Epoch 93/200\n",
            "1340/1340 [==============================] - 0s 105us/step - loss: 0.2594 - acc: 0.8940\n",
            "Epoch 94/200\n",
            "1340/1340 [==============================] - 0s 102us/step - loss: 0.2569 - acc: 0.8955\n",
            "Epoch 95/200\n",
            "1340/1340 [==============================] - 0s 105us/step - loss: 0.2573 - acc: 0.8896\n",
            "Epoch 96/200\n",
            "1340/1340 [==============================] - 0s 105us/step - loss: 0.2550 - acc: 0.8940\n",
            "Epoch 97/200\n",
            "1340/1340 [==============================] - 0s 98us/step - loss: 0.2522 - acc: 0.8978\n",
            "Epoch 98/200\n",
            "1340/1340 [==============================] - 0s 100us/step - loss: 0.2557 - acc: 0.8963\n",
            "Epoch 99/200\n",
            "1340/1340 [==============================] - 0s 106us/step - loss: 0.2519 - acc: 0.8903\n",
            "Epoch 100/200\n",
            "1340/1340 [==============================] - 0s 99us/step - loss: 0.2491 - acc: 0.8963\n",
            "Epoch 101/200\n",
            "1340/1340 [==============================] - 0s 100us/step - loss: 0.2484 - acc: 0.9022\n",
            "Epoch 102/200\n",
            "1340/1340 [==============================] - 0s 103us/step - loss: 0.2492 - acc: 0.9015\n",
            "Epoch 103/200\n",
            "1340/1340 [==============================] - 0s 96us/step - loss: 0.2486 - acc: 0.9007\n",
            "Epoch 104/200\n",
            "1340/1340 [==============================] - 0s 103us/step - loss: 0.2543 - acc: 0.8955\n",
            "Epoch 105/200\n",
            "1340/1340 [==============================] - 0s 103us/step - loss: 0.2521 - acc: 0.8940\n",
            "Epoch 106/200\n",
            "1340/1340 [==============================] - 0s 109us/step - loss: 0.2568 - acc: 0.8963\n",
            "Epoch 107/200\n",
            " 990/1340 [=====================>........] - ETA: 0s - loss: 0.2272 - acc: 0.9091"
          ],
          "name": "stdout"
        },
        {
          "output_type": "stream",
          "text": [
            "1340/1340 [==============================] - 0s 110us/step - loss: 0.2427 - acc: 0.9045\n",
            "Epoch 108/200\n",
            "1340/1340 [==============================] - 0s 102us/step - loss: 0.2520 - acc: 0.9007\n",
            "Epoch 109/200\n",
            "1340/1340 [==============================] - 0s 105us/step - loss: 0.2438 - acc: 0.8978\n",
            "Epoch 110/200\n",
            "1340/1340 [==============================] - 0s 104us/step - loss: 0.2507 - acc: 0.8993\n",
            "Epoch 111/200\n",
            "1340/1340 [==============================] - 0s 98us/step - loss: 0.2439 - acc: 0.8985\n",
            "Epoch 112/200\n",
            "1340/1340 [==============================] - 0s 102us/step - loss: 0.2464 - acc: 0.8978\n",
            "Epoch 113/200\n",
            "1340/1340 [==============================] - 0s 100us/step - loss: 0.2489 - acc: 0.8963\n",
            "Epoch 114/200\n",
            "1340/1340 [==============================] - 0s 106us/step - loss: 0.2499 - acc: 0.8970\n",
            "Epoch 115/200\n",
            "1340/1340 [==============================] - 0s 101us/step - loss: 0.2445 - acc: 0.9000\n",
            "Epoch 116/200\n",
            "1340/1340 [==============================] - 0s 108us/step - loss: 0.2475 - acc: 0.8888\n",
            "Epoch 117/200\n",
            "1340/1340 [==============================] - 0s 101us/step - loss: 0.2406 - acc: 0.9037\n",
            "Epoch 118/200\n",
            "1340/1340 [==============================] - 0s 100us/step - loss: 0.2383 - acc: 0.9037\n",
            "Epoch 119/200\n",
            "1340/1340 [==============================] - 0s 98us/step - loss: 0.2378 - acc: 0.9007\n",
            "Epoch 120/200\n",
            "1340/1340 [==============================] - 0s 107us/step - loss: 0.2388 - acc: 0.9007\n",
            "Epoch 121/200\n",
            "1340/1340 [==============================] - 0s 98us/step - loss: 0.2388 - acc: 0.9067\n",
            "Epoch 122/200\n",
            "1340/1340 [==============================] - 0s 101us/step - loss: 0.2457 - acc: 0.9000\n",
            "Epoch 123/200\n",
            "1340/1340 [==============================] - 0s 100us/step - loss: 0.2396 - acc: 0.9045\n",
            "Epoch 124/200\n",
            "1340/1340 [==============================] - 0s 103us/step - loss: 0.2438 - acc: 0.9037\n",
            "Epoch 125/200\n",
            "1340/1340 [==============================] - 0s 100us/step - loss: 0.2362 - acc: 0.9030\n",
            "Epoch 126/200\n",
            "1340/1340 [==============================] - 0s 101us/step - loss: 0.2390 - acc: 0.9000\n",
            "Epoch 127/200\n",
            "1340/1340 [==============================] - 0s 99us/step - loss: 0.2386 - acc: 0.9022\n",
            "Epoch 128/200\n",
            " 975/1340 [====================>.........] - ETA: 0s - loss: 0.2386 - acc: 0.9026"
          ],
          "name": "stdout"
        },
        {
          "output_type": "stream",
          "text": [
            "1340/1340 [==============================] - 0s 105us/step - loss: 0.2352 - acc: 0.9067\n",
            "Epoch 129/200\n",
            "1340/1340 [==============================] - 0s 105us/step - loss: 0.2344 - acc: 0.9030\n",
            "Epoch 130/200\n",
            "1340/1340 [==============================] - 0s 98us/step - loss: 0.2443 - acc: 0.9037\n",
            "Epoch 131/200\n",
            "1340/1340 [==============================] - 0s 101us/step - loss: 0.2386 - acc: 0.8978\n",
            "Epoch 132/200\n",
            "1340/1340 [==============================] - 0s 103us/step - loss: 0.2369 - acc: 0.9052\n",
            "Epoch 133/200\n",
            "1340/1340 [==============================] - 0s 98us/step - loss: 0.2330 - acc: 0.9104\n",
            "Epoch 134/200\n",
            "1340/1340 [==============================] - 0s 102us/step - loss: 0.2381 - acc: 0.8978\n",
            "Epoch 135/200\n",
            "1340/1340 [==============================] - 0s 105us/step - loss: 0.2415 - acc: 0.8896\n",
            "Epoch 136/200\n",
            "1340/1340 [==============================] - 0s 102us/step - loss: 0.2349 - acc: 0.9037\n",
            "Epoch 137/200\n",
            "1340/1340 [==============================] - 0s 98us/step - loss: 0.2370 - acc: 0.9060\n",
            "Epoch 138/200\n",
            "1340/1340 [==============================] - 0s 106us/step - loss: 0.2338 - acc: 0.9104\n",
            "Epoch 139/200\n",
            "1340/1340 [==============================] - 0s 107us/step - loss: 0.2345 - acc: 0.9067\n",
            "Epoch 140/200\n",
            "1340/1340 [==============================] - 0s 101us/step - loss: 0.2243 - acc: 0.9052\n",
            "Epoch 141/200\n",
            "1340/1340 [==============================] - 0s 102us/step - loss: 0.2306 - acc: 0.9060\n",
            "Epoch 142/200\n",
            "1340/1340 [==============================] - 0s 106us/step - loss: 0.2336 - acc: 0.9037\n",
            "Epoch 143/200\n",
            "1340/1340 [==============================] - 0s 99us/step - loss: 0.2274 - acc: 0.9104\n",
            "Epoch 144/200\n",
            "1340/1340 [==============================] - 0s 102us/step - loss: 0.2375 - acc: 0.8993\n",
            "Epoch 145/200\n",
            "1340/1340 [==============================] - 0s 104us/step - loss: 0.2321 - acc: 0.8978\n",
            "Epoch 146/200\n",
            "1340/1340 [==============================] - 0s 101us/step - loss: 0.2269 - acc: 0.9045\n",
            "Epoch 147/200\n",
            "1340/1340 [==============================] - 0s 97us/step - loss: 0.2353 - acc: 0.9075\n",
            "Epoch 148/200\n",
            "1340/1340 [==============================] - 0s 99us/step - loss: 0.2330 - acc: 0.9045\n",
            "Epoch 149/200\n",
            "1035/1340 [======================>.......] - ETA: 0s - loss: 0.2356 - acc: 0.8966"
          ],
          "name": "stdout"
        },
        {
          "output_type": "stream",
          "text": [
            "1340/1340 [==============================] - 0s 103us/step - loss: 0.2326 - acc: 0.9000\n",
            "Epoch 150/200\n",
            "1340/1340 [==============================] - 0s 104us/step - loss: 0.2256 - acc: 0.9090\n",
            "Epoch 151/200\n",
            "1340/1340 [==============================] - 0s 100us/step - loss: 0.2267 - acc: 0.9060\n",
            "Epoch 152/200\n",
            "1340/1340 [==============================] - 0s 109us/step - loss: 0.2367 - acc: 0.9075\n",
            "Epoch 153/200\n",
            "1340/1340 [==============================] - 0s 102us/step - loss: 0.2313 - acc: 0.9015\n",
            "Epoch 154/200\n",
            "1340/1340 [==============================] - 0s 100us/step - loss: 0.2220 - acc: 0.9112\n",
            "Epoch 155/200\n",
            "1340/1340 [==============================] - 0s 98us/step - loss: 0.2273 - acc: 0.9075\n",
            "Epoch 156/200\n",
            "1340/1340 [==============================] - 0s 102us/step - loss: 0.2282 - acc: 0.9075\n",
            "Epoch 157/200\n",
            "1340/1340 [==============================] - 0s 102us/step - loss: 0.2316 - acc: 0.9075\n",
            "Epoch 158/200\n",
            "1340/1340 [==============================] - 0s 102us/step - loss: 0.2262 - acc: 0.9015\n",
            "Epoch 159/200\n",
            "1340/1340 [==============================] - 0s 98us/step - loss: 0.2319 - acc: 0.9007\n",
            "Epoch 160/200\n",
            "1340/1340 [==============================] - 0s 102us/step - loss: 0.2318 - acc: 0.9007\n",
            "Epoch 161/200\n",
            "1340/1340 [==============================] - 0s 99us/step - loss: 0.2316 - acc: 0.9022\n",
            "Epoch 162/200\n",
            "1340/1340 [==============================] - 0s 97us/step - loss: 0.2245 - acc: 0.9127\n",
            "Epoch 163/200\n",
            "1340/1340 [==============================] - 0s 96us/step - loss: 0.2232 - acc: 0.9097\n",
            "Epoch 164/200\n",
            "1340/1340 [==============================] - 0s 104us/step - loss: 0.2177 - acc: 0.9119\n",
            "Epoch 165/200\n",
            "1340/1340 [==============================] - 0s 106us/step - loss: 0.2239 - acc: 0.9172\n",
            "Epoch 166/200\n",
            "1340/1340 [==============================] - 0s 107us/step - loss: 0.2216 - acc: 0.9127\n",
            "Epoch 167/200\n",
            "1340/1340 [==============================] - 0s 99us/step - loss: 0.2256 - acc: 0.9060\n",
            "Epoch 168/200\n",
            "1340/1340 [==============================] - 0s 100us/step - loss: 0.2214 - acc: 0.9067\n",
            "Epoch 169/200\n",
            "1340/1340 [==============================] - 0s 97us/step - loss: 0.2217 - acc: 0.9060\n",
            "Epoch 170/200\n",
            " 495/1340 [==========>...................] - ETA: 0s - loss: 0.2485 - acc: 0.8909"
          ],
          "name": "stdout"
        },
        {
          "output_type": "stream",
          "text": [
            "1340/1340 [==============================] - 0s 105us/step - loss: 0.2150 - acc: 0.9142\n",
            "Epoch 171/200\n",
            "1340/1340 [==============================] - 0s 102us/step - loss: 0.2187 - acc: 0.9157\n",
            "Epoch 172/200\n",
            "1340/1340 [==============================] - 0s 98us/step - loss: 0.2238 - acc: 0.9067\n",
            "Epoch 173/200\n",
            "1340/1340 [==============================] - 0s 103us/step - loss: 0.2200 - acc: 0.9060\n",
            "Epoch 174/200\n",
            "1340/1340 [==============================] - 0s 102us/step - loss: 0.2228 - acc: 0.9067\n",
            "Epoch 175/200\n",
            "1340/1340 [==============================] - 0s 98us/step - loss: 0.2266 - acc: 0.8955\n",
            "Epoch 176/200\n",
            "1340/1340 [==============================] - 0s 98us/step - loss: 0.2196 - acc: 0.9022\n",
            "Epoch 177/200\n",
            "1340/1340 [==============================] - 0s 101us/step - loss: 0.2221 - acc: 0.9097\n",
            "Epoch 178/200\n",
            "1340/1340 [==============================] - 0s 102us/step - loss: 0.2143 - acc: 0.9090\n",
            "Epoch 179/200\n",
            "1340/1340 [==============================] - 0s 96us/step - loss: 0.2232 - acc: 0.9082\n",
            "Epoch 180/200\n",
            "1340/1340 [==============================] - 0s 103us/step - loss: 0.2230 - acc: 0.9052\n",
            "Epoch 181/200\n",
            "1340/1340 [==============================] - 0s 102us/step - loss: 0.2161 - acc: 0.9142\n",
            "Epoch 182/200\n",
            "1340/1340 [==============================] - 0s 98us/step - loss: 0.2156 - acc: 0.9127\n",
            "Epoch 183/200\n",
            "1340/1340 [==============================] - 0s 104us/step - loss: 0.2133 - acc: 0.9127\n",
            "Epoch 184/200\n",
            "1340/1340 [==============================] - 0s 103us/step - loss: 0.2144 - acc: 0.9112\n",
            "Epoch 185/200\n",
            "1340/1340 [==============================] - 0s 102us/step - loss: 0.2202 - acc: 0.9030\n",
            "Epoch 186/200\n",
            "1340/1340 [==============================] - 0s 99us/step - loss: 0.2132 - acc: 0.9119\n",
            "Epoch 187/200\n",
            "1340/1340 [==============================] - 0s 101us/step - loss: 0.2180 - acc: 0.9097\n",
            "Epoch 188/200\n",
            "1340/1340 [==============================] - 0s 101us/step - loss: 0.2175 - acc: 0.9090\n",
            "Epoch 189/200\n",
            "1340/1340 [==============================] - 0s 104us/step - loss: 0.2139 - acc: 0.9067\n",
            "Epoch 190/200\n",
            "1340/1340 [==============================] - 0s 98us/step - loss: 0.2176 - acc: 0.9075\n",
            "Epoch 191/200\n",
            "1035/1340 [======================>.......] - ETA: 0s - loss: 0.2136 - acc: 0.9101"
          ],
          "name": "stdout"
        },
        {
          "output_type": "stream",
          "text": [
            "1340/1340 [==============================] - 0s 100us/step - loss: 0.2107 - acc: 0.9149\n",
            "Epoch 192/200\n",
            "1340/1340 [==============================] - 0s 98us/step - loss: 0.2206 - acc: 0.9030\n",
            "Epoch 193/200\n",
            "1340/1340 [==============================] - 0s 102us/step - loss: 0.2091 - acc: 0.9112\n",
            "Epoch 194/200\n",
            "1340/1340 [==============================] - 0s 100us/step - loss: 0.2099 - acc: 0.9179\n",
            "Epoch 195/200\n",
            "1340/1340 [==============================] - 0s 101us/step - loss: 0.2117 - acc: 0.9104\n",
            "Epoch 196/200\n",
            "1340/1340 [==============================] - 0s 96us/step - loss: 0.2131 - acc: 0.9067\n",
            "Epoch 197/200\n",
            "1340/1340 [==============================] - 0s 102us/step - loss: 0.2207 - acc: 0.9052\n",
            "Epoch 198/200\n",
            "1340/1340 [==============================] - 0s 97us/step - loss: 0.2099 - acc: 0.9187\n",
            "Epoch 199/200\n",
            "1340/1340 [==============================] - 0s 96us/step - loss: 0.2100 - acc: 0.9090\n",
            "Epoch 200/200\n",
            "1340/1340 [==============================] - 0s 105us/step - loss: 0.2097 - acc: 0.9097\n"
          ],
          "name": "stdout"
        },
        {
          "output_type": "execute_result",
          "data": {
            "text/plain": [
              "<keras.callbacks.History at 0x7f4f1d0acb38>"
            ]
          },
          "metadata": {
            "tags": []
          },
          "execution_count": 59
        }
      ]
    },
    {
      "metadata": {
        "id": "TCdQOniqSfxn",
        "colab_type": "code",
        "colab": {
          "autoexec": {
            "startup": false,
            "wait_interval": 0
          },
          "base_uri": "https://localhost:8080/",
          "height": 51
        },
        "outputId": "a392610c-8bda-4057-b0ae-27c190f8bcda",
        "executionInfo": {
          "status": "ok",
          "timestamp": 1523058227606,
          "user_tz": 240,
          "elapsed": 271,
          "user": {
            "displayName": "Mukhil Azhagan",
            "photoUrl": "//lh4.googleusercontent.com/-sxMVMyXFphk/AAAAAAAAAAI/AAAAAAAAAi8/wIkNL082UHw/s50-c-k-no/photo.jpg",
            "userId": "108469058556399133371"
          }
        }
      },
      "cell_type": "code",
      "source": [
        "trained_out = model.evaluate (test_x , test_y)\n",
        "print(trained_out)"
      ],
      "execution_count": 62,
      "outputs": [
        {
          "output_type": "stream",
          "text": [
            "660/660 [==============================] - 0s 34us/step\n",
            "[0.49056715206666424, 0.8121212121212121]\n"
          ],
          "name": "stdout"
        }
      ]
    },
    {
      "metadata": {
        "id": "sblTNRIQVzo8",
        "colab_type": "code",
        "colab": {
          "autoexec": {
            "startup": false,
            "wait_interval": 0
          },
          "base_uri": "https://localhost:8080/",
          "height": 6817
        },
        "outputId": "48ef17aa-0f92-4609-ef04-b0889c77bbdb",
        "executionInfo": {
          "status": "ok",
          "timestamp": 1523059150893,
          "user_tz": 240,
          "elapsed": 283,
          "user": {
            "displayName": "Mukhil Azhagan",
            "photoUrl": "//lh4.googleusercontent.com/-sxMVMyXFphk/AAAAAAAAAAI/AAAAAAAAAi8/wIkNL082UHw/s50-c-k-no/photo.jpg",
            "userId": "108469058556399133371"
          }
        }
      },
      "cell_type": "code",
      "source": [
        "predic = np.round( model.predict(enc_test) ) \n",
        "print(predic)"
      ],
      "execution_count": 79,
      "outputs": [
        {
          "output_type": "stream",
          "text": [
            "[[1.]\n",
            " [1.]\n",
            " [1.]\n",
            " [1.]\n",
            " [0.]\n",
            " [1.]\n",
            " [1.]\n",
            " [0.]\n",
            " [1.]\n",
            " [1.]\n",
            " [1.]\n",
            " [0.]\n",
            " [1.]\n",
            " [0.]\n",
            " [0.]\n",
            " [0.]\n",
            " [0.]\n",
            " [0.]\n",
            " [1.]\n",
            " [1.]\n",
            " [0.]\n",
            " [1.]\n",
            " [1.]\n",
            " [1.]\n",
            " [0.]\n",
            " [1.]\n",
            " [0.]\n",
            " [1.]\n",
            " [0.]\n",
            " [1.]\n",
            " [0.]\n",
            " [1.]\n",
            " [1.]\n",
            " [1.]\n",
            " [1.]\n",
            " [0.]\n",
            " [1.]\n",
            " [0.]\n",
            " [1.]\n",
            " [1.]\n",
            " [0.]\n",
            " [0.]\n",
            " [0.]\n",
            " [0.]\n",
            " [1.]\n",
            " [0.]\n",
            " [1.]\n",
            " [1.]\n",
            " [0.]\n",
            " [0.]\n",
            " [1.]\n",
            " [1.]\n",
            " [0.]\n",
            " [0.]\n",
            " [0.]\n",
            " [1.]\n",
            " [0.]\n",
            " [0.]\n",
            " [1.]\n",
            " [0.]\n",
            " [0.]\n",
            " [0.]\n",
            " [1.]\n",
            " [1.]\n",
            " [0.]\n",
            " [1.]\n",
            " [0.]\n",
            " [1.]\n",
            " [1.]\n",
            " [0.]\n",
            " [0.]\n",
            " [1.]\n",
            " [0.]\n",
            " [0.]\n",
            " [1.]\n",
            " [1.]\n",
            " [0.]\n",
            " [1.]\n",
            " [1.]\n",
            " [1.]\n",
            " [0.]\n",
            " [1.]\n",
            " [0.]\n",
            " [1.]\n",
            " [0.]\n",
            " [0.]\n",
            " [0.]\n",
            " [0.]\n",
            " [0.]\n",
            " [0.]\n",
            " [1.]\n",
            " [0.]\n",
            " [0.]\n",
            " [0.]\n",
            " [1.]\n",
            " [0.]\n",
            " [1.]\n",
            " [1.]\n",
            " [1.]\n",
            " [0.]\n",
            " [0.]\n",
            " [0.]\n",
            " [0.]\n",
            " [1.]\n",
            " [1.]\n",
            " [1.]\n",
            " [1.]\n",
            " [1.]\n",
            " [0.]\n",
            " [0.]\n",
            " [1.]\n",
            " [0.]\n",
            " [1.]\n",
            " [1.]\n",
            " [0.]\n",
            " [0.]\n",
            " [0.]\n",
            " [1.]\n",
            " [0.]\n",
            " [1.]\n",
            " [1.]\n",
            " [1.]\n",
            " [1.]\n",
            " [1.]\n",
            " [0.]\n",
            " [0.]\n",
            " [0.]\n",
            " [1.]\n",
            " [1.]\n",
            " [0.]\n",
            " [0.]\n",
            " [1.]\n",
            " [1.]\n",
            " [0.]\n",
            " [0.]\n",
            " [0.]\n",
            " [1.]\n",
            " [1.]\n",
            " [0.]\n",
            " [1.]\n",
            " [0.]\n",
            " [0.]\n",
            " [1.]\n",
            " [1.]\n",
            " [0.]\n",
            " [0.]\n",
            " [0.]\n",
            " [0.]\n",
            " [1.]\n",
            " [1.]\n",
            " [1.]\n",
            " [1.]\n",
            " [1.]\n",
            " [0.]\n",
            " [1.]\n",
            " [0.]\n",
            " [1.]\n",
            " [1.]\n",
            " [1.]\n",
            " [1.]\n",
            " [1.]\n",
            " [1.]\n",
            " [1.]\n",
            " [1.]\n",
            " [1.]\n",
            " [1.]\n",
            " [0.]\n",
            " [0.]\n",
            " [1.]\n",
            " [1.]\n",
            " [1.]\n",
            " [0.]\n",
            " [1.]\n",
            " [0.]\n",
            " [0.]\n",
            " [0.]\n",
            " [1.]\n",
            " [1.]\n",
            " [0.]\n",
            " [0.]\n",
            " [1.]\n",
            " [0.]\n",
            " [1.]\n",
            " [1.]\n",
            " [0.]\n",
            " [1.]\n",
            " [0.]\n",
            " [1.]\n",
            " [1.]\n",
            " [1.]\n",
            " [0.]\n",
            " [1.]\n",
            " [1.]\n",
            " [1.]\n",
            " [1.]\n",
            " [1.]\n",
            " [1.]\n",
            " [0.]\n",
            " [1.]\n",
            " [1.]\n",
            " [0.]\n",
            " [1.]\n",
            " [1.]\n",
            " [1.]\n",
            " [0.]\n",
            " [0.]\n",
            " [1.]\n",
            " [0.]\n",
            " [0.]\n",
            " [0.]\n",
            " [1.]\n",
            " [1.]\n",
            " [0.]\n",
            " [0.]\n",
            " [0.]\n",
            " [0.]\n",
            " [0.]\n",
            " [0.]\n",
            " [0.]\n",
            " [1.]\n",
            " [0.]\n",
            " [1.]\n",
            " [1.]\n",
            " [1.]\n",
            " [1.]\n",
            " [1.]\n",
            " [1.]\n",
            " [1.]\n",
            " [1.]\n",
            " [0.]\n",
            " [1.]\n",
            " [1.]\n",
            " [1.]\n",
            " [0.]\n",
            " [1.]\n",
            " [0.]\n",
            " [1.]\n",
            " [1.]\n",
            " [1.]\n",
            " [1.]\n",
            " [0.]\n",
            " [0.]\n",
            " [0.]\n",
            " [0.]\n",
            " [0.]\n",
            " [0.]\n",
            " [1.]\n",
            " [1.]\n",
            " [0.]\n",
            " [1.]\n",
            " [1.]\n",
            " [0.]\n",
            " [1.]\n",
            " [1.]\n",
            " [0.]\n",
            " [1.]\n",
            " [1.]\n",
            " [0.]\n",
            " [0.]\n",
            " [1.]\n",
            " [1.]\n",
            " [1.]\n",
            " [1.]\n",
            " [0.]\n",
            " [1.]\n",
            " [1.]\n",
            " [1.]\n",
            " [1.]\n",
            " [1.]\n",
            " [1.]\n",
            " [1.]\n",
            " [0.]\n",
            " [0.]\n",
            " [1.]\n",
            " [0.]\n",
            " [0.]\n",
            " [0.]\n",
            " [1.]\n",
            " [0.]\n",
            " [0.]\n",
            " [0.]\n",
            " [1.]\n",
            " [0.]\n",
            " [1.]\n",
            " [1.]\n",
            " [0.]\n",
            " [1.]\n",
            " [0.]\n",
            " [1.]\n",
            " [1.]\n",
            " [1.]\n",
            " [1.]\n",
            " [1.]\n",
            " [1.]\n",
            " [1.]\n",
            " [0.]\n",
            " [1.]\n",
            " [0.]\n",
            " [0.]\n",
            " [1.]\n",
            " [1.]\n",
            " [1.]\n",
            " [1.]\n",
            " [0.]\n",
            " [1.]\n",
            " [1.]\n",
            " [1.]\n",
            " [0.]\n",
            " [0.]\n",
            " [0.]\n",
            " [0.]\n",
            " [1.]\n",
            " [1.]\n",
            " [0.]\n",
            " [1.]\n",
            " [0.]\n",
            " [0.]\n",
            " [1.]\n",
            " [1.]\n",
            " [0.]\n",
            " [0.]\n",
            " [0.]\n",
            " [1.]\n",
            " [1.]\n",
            " [0.]\n",
            " [1.]\n",
            " [1.]\n",
            " [0.]\n",
            " [1.]\n",
            " [1.]\n",
            " [1.]\n",
            " [0.]\n",
            " [1.]\n",
            " [0.]\n",
            " [1.]\n",
            " [1.]\n",
            " [1.]\n",
            " [1.]\n",
            " [1.]\n",
            " [1.]\n",
            " [0.]\n",
            " [1.]\n",
            " [1.]\n",
            " [1.]\n",
            " [0.]\n",
            " [1.]\n",
            " [1.]\n",
            " [0.]\n",
            " [0.]\n",
            " [0.]\n",
            " [1.]\n",
            " [1.]\n",
            " [1.]\n",
            " [0.]\n",
            " [1.]\n",
            " [0.]\n",
            " [1.]\n",
            " [1.]\n",
            " [0.]\n",
            " [0.]\n",
            " [1.]\n",
            " [1.]\n",
            " [1.]\n",
            " [0.]\n",
            " [1.]\n",
            " [0.]\n",
            " [0.]\n",
            " [1.]\n",
            " [1.]\n",
            " [1.]\n",
            " [1.]\n",
            " [0.]\n",
            " [1.]\n",
            " [0.]\n",
            " [1.]\n",
            " [0.]\n",
            " [0.]\n",
            " [0.]\n",
            " [1.]\n",
            " [1.]\n",
            " [0.]\n",
            " [0.]\n",
            " [1.]\n",
            " [0.]\n",
            " [1.]\n",
            " [0.]\n",
            " [0.]\n",
            " [0.]\n",
            " [1.]\n",
            " [1.]\n",
            " [0.]\n",
            " [0.]\n",
            " [0.]\n",
            " [0.]\n",
            " [1.]\n",
            " [1.]\n",
            " [0.]\n",
            " [1.]\n",
            " [0.]\n",
            " [1.]]\n"
          ],
          "name": "stdout"
        }
      ]
    },
    {
      "metadata": {
        "id": "NrZjGhYQWR8r",
        "colab_type": "code",
        "colab": {
          "autoexec": {
            "startup": false,
            "wait_interval": 0
          }
        }
      },
      "cell_type": "code",
      "source": [
        "save_test =pd.DataFrame(predic)\n",
        "save_test.to_csv(\"test_check.csv\")\n",
        "files.download(\"test_check.csv\")\n"
      ],
      "execution_count": 0,
      "outputs": []
    },
    {
      "metadata": {
        "id": "ProTMytJXnDX",
        "colab_type": "text"
      },
      "cell_type": "markdown",
      "source": [
        ""
      ]
    },
    {
      "metadata": {
        "id": "mITxZTJxS6v-",
        "colab_type": "code",
        "colab": {
          "autoexec": {
            "startup": false,
            "wait_interval": 0
          }
        }
      },
      "cell_type": "code",
      "source": [
        "with open('mycsv.csv', 'w' , newline = '') as f:\n",
        "  writer = csv.writer(f)\n",
        "  writer.writerow(['col1', 'col2' , 'col3'])\n",
        "  writer.writerow(['one', 'two', 'three'])"
      ],
      "execution_count": 0,
      "outputs": []
    },
    {
      "metadata": {
        "id": "NyhkECT_UCPr",
        "colab_type": "code",
        "colab": {
          "autoexec": {
            "startup": false,
            "wait_interval": 0
          }
        }
      },
      "cell_type": "code",
      "source": [
        "Dense?"
      ],
      "execution_count": 0,
      "outputs": []
    }
  ]
}